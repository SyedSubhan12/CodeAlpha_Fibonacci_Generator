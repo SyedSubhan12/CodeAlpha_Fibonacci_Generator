{
 "cells": [
  {
   "cell_type": "code",
   "execution_count": 1,
   "metadata": {},
   "outputs": [
    {
     "name": "stdout",
     "output_type": "stream",
     "text": [
      "Fibonacci sequence with 5 numbers:\n",
      "[0, 1, 1, 2, 3]\n"
     ]
    }
   ],
   "source": [
    "def generate_fibonacci(n):\n",
    "    \"\"\"Generate Fibonacci sequence up to n numbers.\"\"\"\n",
    "    fib_sequence = []\n",
    "    a, b = 0, 1\n",
    "    while len(fib_sequence) < n:\n",
    "        fib_sequence.append(a)\n",
    "        a, b = b, a + b\n",
    "    return fib_sequence\n",
    "\n",
    "def main():\n",
    "    # Number of Fibonacci numbers to generate\n",
    "    count = int(input(\"Enter the number of Fibonacci numbers to generate: \"))\n",
    "    \n",
    "    if count <= 0:\n",
    "        print(\"Please enter a positive integer.\")\n",
    "        return\n",
    "    \n",
    "    fibonacci_numbers = generate_fibonacci(count)\n",
    "    print(f\"Fibonacci sequence with {count} numbers:\")\n",
    "    print(fibonacci_numbers)\n",
    "\n",
    "if __name__ == \"__main__\":\n",
    "    main()\n"
   ]
  }
 ],
 "metadata": {
  "kernelspec": {
   "display_name": "cuda",
   "language": "python",
   "name": "python3"
  },
  "language_info": {
   "codemirror_mode": {
    "name": "ipython",
    "version": 3
   },
   "file_extension": ".py",
   "mimetype": "text/x-python",
   "name": "python",
   "nbconvert_exporter": "python",
   "pygments_lexer": "ipython3",
   "version": "3.9.19"
  }
 },
 "nbformat": 4,
 "nbformat_minor": 2
}
